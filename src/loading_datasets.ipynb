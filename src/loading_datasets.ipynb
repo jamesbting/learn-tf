{
 "nbformat": 4,
 "nbformat_minor": 2,
 "metadata": {
  "language_info": {
   "name": "python",
   "codemirror_mode": {
    "name": "ipython",
    "version": 3
   },
   "version": "3.6.8-final"
  },
  "orig_nbformat": 2,
  "file_extension": ".py",
  "mimetype": "text/x-python",
  "name": "python",
  "npconvert_exporter": "python",
  "pygments_lexer": "ipython3",
  "version": 3,
  "kernelspec": {
   "name": "python36864bitf498ff391bd141efa82a8b19ebf9c273",
   "display_name": "Python 3.6.8 64-bit"
  }
 },
 "cells": [
  {
   "cell_type": "code",
   "execution_count": 1,
   "metadata": {},
   "outputs": [],
   "source": [
    "import numpy as np\n",
    "import matplotlib.pyplot as plt\n",
    "import os\n",
    "import cv2\n",
    "\n",
    "DATADIR = \"C:\\\\Users\\\\James Ting\\\\OneDrive - McGill University\\\\Personal\\\\Personal Projects\\\\learning-tf\\\\datasets\\\\kaggle_cats_and_dogs\\\\PetImages\"\n",
    "\n",
    "CATEGORIES = [\"Dog\", \"Cat\"]"
   ]
  },
  {
   "cell_type": "code",
   "execution_count": 2,
   "metadata": {},
   "outputs": [],
   "source": [
    "#normalize all the shapes to be size 50\n",
    "\n",
    "IMG_SIZE = 50\n",
    "\n",
    "#new_array = cv2.resize(img_array,(IMG_SIZE,IMG_SIZE))\n",
    "#plt.imshow(new_array,cmap = 'gray')"
   ]
  },
  {
   "cell_type": "code",
   "execution_count": 3,
   "metadata": {},
   "outputs": [
    {
     "output_type": "stream",
     "name": "stdout",
     "text": "General Exception OpenCV(4.2.0) C:\\projects\\opencv-python\\opencv\\modules\\imgproc\\src\\resize.cpp:4045: error: (-215:Assertion failed) !ssize.empty() in function 'cv::resize'\n C:\\Users\\James Ting\\OneDrive - McGill University\\Personal\\Personal Projects\\learning-tf\\datasets\\kaggle_cats_and_dogs\\PetImages\\Dog\\10158.jpg\nGeneral Exception OpenCV(4.2.0) C:\\projects\\opencv-python\\opencv\\modules\\imgproc\\src\\resize.cpp:4045: error: (-215:Assertion failed) !ssize.empty() in function 'cv::resize'\n C:\\Users\\James Ting\\OneDrive - McGill University\\Personal\\Personal Projects\\learning-tf\\datasets\\kaggle_cats_and_dogs\\PetImages\\Dog\\10401.jpg\nGeneral Exception OpenCV(4.2.0) C:\\projects\\opencv-python\\opencv\\modules\\imgproc\\src\\resize.cpp:4045: error: (-215:Assertion failed) !ssize.empty() in function 'cv::resize'\n C:\\Users\\James Ting\\OneDrive - McGill University\\Personal\\Personal Projects\\learning-tf\\datasets\\kaggle_cats_and_dogs\\PetImages\\Dog\\10747.jpg\nGeneral Exception OpenCV(4.2.0) C:\\projects\\opencv-python\\opencv\\modules\\imgproc\\src\\resize.cpp:4045: error: (-215:Assertion failed) !ssize.empty() in function 'cv::resize'\n C:\\Users\\James Ting\\OneDrive - McGill University\\Personal\\Personal Projects\\learning-tf\\datasets\\kaggle_cats_and_dogs\\PetImages\\Dog\\10797.jpg\nGeneral Exception OpenCV(4.2.0) C:\\projects\\opencv-python\\opencv\\modules\\imgproc\\src\\resize.cpp:4045: error: (-215:Assertion failed) !ssize.empty() in function 'cv::resize'\n C:\\Users\\James Ting\\OneDrive - McGill University\\Personal\\Personal Projects\\learning-tf\\datasets\\kaggle_cats_and_dogs\\PetImages\\Dog\\11410.jpg\nGeneral Exception OpenCV(4.2.0) C:\\projects\\opencv-python\\opencv\\modules\\imgproc\\src\\resize.cpp:4045: error: (-215:Assertion failed) !ssize.empty() in function 'cv::resize'\n C:\\Users\\James Ting\\OneDrive - McGill University\\Personal\\Personal Projects\\learning-tf\\datasets\\kaggle_cats_and_dogs\\PetImages\\Dog\\11675.jpg\nGeneral Exception OpenCV(4.2.0) C:\\projects\\opencv-python\\opencv\\modules\\imgproc\\src\\resize.cpp:4045: error: (-215:Assertion failed) !ssize.empty() in function 'cv::resize'\n C:\\Users\\James Ting\\OneDrive - McGill University\\Personal\\Personal Projects\\learning-tf\\datasets\\kaggle_cats_and_dogs\\PetImages\\Dog\\11702.jpg\nGeneral Exception OpenCV(4.2.0) C:\\projects\\opencv-python\\opencv\\modules\\imgproc\\src\\resize.cpp:4045: error: (-215:Assertion failed) !ssize.empty() in function 'cv::resize'\n C:\\Users\\James Ting\\OneDrive - McGill University\\Personal\\Personal Projects\\learning-tf\\datasets\\kaggle_cats_and_dogs\\PetImages\\Dog\\11849.jpg\nGeneral Exception OpenCV(4.2.0) C:\\projects\\opencv-python\\opencv\\modules\\imgproc\\src\\resize.cpp:4045: error: (-215:Assertion failed) !ssize.empty() in function 'cv::resize'\n C:\\Users\\James Ting\\OneDrive - McGill University\\Personal\\Personal Projects\\learning-tf\\datasets\\kaggle_cats_and_dogs\\PetImages\\Dog\\11853.jpg\nGeneral Exception OpenCV(4.2.0) C:\\projects\\opencv-python\\opencv\\modules\\imgproc\\src\\resize.cpp:4045: error: (-215:Assertion failed) !ssize.empty() in function 'cv::resize'\n C:\\Users\\James Ting\\OneDrive - McGill University\\Personal\\Personal Projects\\learning-tf\\datasets\\kaggle_cats_and_dogs\\PetImages\\Dog\\1308.jpg\nGeneral Exception OpenCV(4.2.0) C:\\projects\\opencv-python\\opencv\\modules\\imgproc\\src\\resize.cpp:4045: error: (-215:Assertion failed) !ssize.empty() in function 'cv::resize'\n C:\\Users\\James Ting\\OneDrive - McGill University\\Personal\\Personal Projects\\learning-tf\\datasets\\kaggle_cats_and_dogs\\PetImages\\Dog\\1866.jpg\nGeneral Exception OpenCV(4.2.0) C:\\projects\\opencv-python\\opencv\\modules\\imgproc\\src\\resize.cpp:4045: error: (-215:Assertion failed) !ssize.empty() in function 'cv::resize'\n C:\\Users\\James Ting\\OneDrive - McGill University\\Personal\\Personal Projects\\learning-tf\\datasets\\kaggle_cats_and_dogs\\PetImages\\Dog\\2384.jpg\nGeneral Exception OpenCV(4.2.0) C:\\projects\\opencv-python\\opencv\\modules\\imgproc\\src\\resize.cpp:4045: error: (-215:Assertion failed) !ssize.empty() in function 'cv::resize'\n C:\\Users\\James Ting\\OneDrive - McGill University\\Personal\\Personal Projects\\learning-tf\\datasets\\kaggle_cats_and_dogs\\PetImages\\Dog\\2688.jpg\nGeneral Exception OpenCV(4.2.0) C:\\projects\\opencv-python\\opencv\\modules\\imgproc\\src\\resize.cpp:4045: error: (-215:Assertion failed) !ssize.empty() in function 'cv::resize'\n C:\\Users\\James Ting\\OneDrive - McGill University\\Personal\\Personal Projects\\learning-tf\\datasets\\kaggle_cats_and_dogs\\PetImages\\Dog\\2877.jpg\nGeneral Exception OpenCV(4.2.0) C:\\projects\\opencv-python\\opencv\\modules\\imgproc\\src\\resize.cpp:4045: error: (-215:Assertion failed) !ssize.empty() in function 'cv::resize'\n C:\\Users\\James Ting\\OneDrive - McGill University\\Personal\\Personal Projects\\learning-tf\\datasets\\kaggle_cats_and_dogs\\PetImages\\Dog\\3136.jpg\nGeneral Exception OpenCV(4.2.0) C:\\projects\\opencv-python\\opencv\\modules\\imgproc\\src\\resize.cpp:4045: error: (-215:Assertion failed) !ssize.empty() in function 'cv::resize'\n C:\\Users\\James Ting\\OneDrive - McGill University\\Personal\\Personal Projects\\learning-tf\\datasets\\kaggle_cats_and_dogs\\PetImages\\Dog\\3288.jpg\nGeneral Exception OpenCV(4.2.0) C:\\projects\\opencv-python\\opencv\\modules\\imgproc\\src\\resize.cpp:4045: error: (-215:Assertion failed) !ssize.empty() in function 'cv::resize'\n C:\\Users\\James Ting\\OneDrive - McGill University\\Personal\\Personal Projects\\learning-tf\\datasets\\kaggle_cats_and_dogs\\PetImages\\Dog\\3588.jpg\nGeneral Exception OpenCV(4.2.0) C:\\projects\\opencv-python\\opencv\\modules\\imgproc\\src\\resize.cpp:4045: error: (-215:Assertion failed) !ssize.empty() in function 'cv::resize'\n C:\\Users\\James Ting\\OneDrive - McGill University\\Personal\\Personal Projects\\learning-tf\\datasets\\kaggle_cats_and_dogs\\PetImages\\Dog\\4367.jpg\nGeneral Exception OpenCV(4.2.0) C:\\projects\\opencv-python\\opencv\\modules\\imgproc\\src\\resize.cpp:4045: error: (-215:Assertion failed) !ssize.empty() in function 'cv::resize'\n C:\\Users\\James Ting\\OneDrive - McGill University\\Personal\\Personal Projects\\learning-tf\\datasets\\kaggle_cats_and_dogs\\PetImages\\Dog\\5604.jpg\nGeneral Exception OpenCV(4.2.0) C:\\projects\\opencv-python\\opencv\\modules\\imgproc\\src\\resize.cpp:4045: error: (-215:Assertion failed) !ssize.empty() in function 'cv::resize'\n C:\\Users\\James Ting\\OneDrive - McGill University\\Personal\\Personal Projects\\learning-tf\\datasets\\kaggle_cats_and_dogs\\PetImages\\Dog\\5736.jpg\nGeneral Exception OpenCV(4.2.0) C:\\projects\\opencv-python\\opencv\\modules\\imgproc\\src\\resize.cpp:4045: error: (-215:Assertion failed) !ssize.empty() in function 'cv::resize'\n C:\\Users\\James Ting\\OneDrive - McGill University\\Personal\\Personal Projects\\learning-tf\\datasets\\kaggle_cats_and_dogs\\PetImages\\Dog\\6059.jpg\nGeneral Exception OpenCV(4.2.0) C:\\projects\\opencv-python\\opencv\\modules\\imgproc\\src\\resize.cpp:4045: error: (-215:Assertion failed) !ssize.empty() in function 'cv::resize'\n C:\\Users\\James Ting\\OneDrive - McGill University\\Personal\\Personal Projects\\learning-tf\\datasets\\kaggle_cats_and_dogs\\PetImages\\Dog\\6238.jpg\nGeneral Exception OpenCV(4.2.0) C:\\projects\\opencv-python\\opencv\\modules\\imgproc\\src\\resize.cpp:4045: error: (-215:Assertion failed) !ssize.empty() in function 'cv::resize'\n C:\\Users\\James Ting\\OneDrive - McGill University\\Personal\\Personal Projects\\learning-tf\\datasets\\kaggle_cats_and_dogs\\PetImages\\Dog\\6718.jpg\nGeneral Exception OpenCV(4.2.0) C:\\projects\\opencv-python\\opencv\\modules\\imgproc\\src\\resize.cpp:4045: error: (-215:Assertion failed) !ssize.empty() in function 'cv::resize'\n C:\\Users\\James Ting\\OneDrive - McGill University\\Personal\\Personal Projects\\learning-tf\\datasets\\kaggle_cats_and_dogs\\PetImages\\Dog\\7112.jpg\nGeneral Exception OpenCV(4.2.0) C:\\projects\\opencv-python\\opencv\\modules\\imgproc\\src\\resize.cpp:4045: error: (-215:Assertion failed) !ssize.empty() in function 'cv::resize'\n C:\\Users\\James Ting\\OneDrive - McGill University\\Personal\\Personal Projects\\learning-tf\\datasets\\kaggle_cats_and_dogs\\PetImages\\Dog\\7133.jpg\nGeneral Exception OpenCV(4.2.0) C:\\projects\\opencv-python\\opencv\\modules\\imgproc\\src\\resize.cpp:4045: error: (-215:Assertion failed) !ssize.empty() in function 'cv::resize'\n C:\\Users\\James Ting\\OneDrive - McGill University\\Personal\\Personal Projects\\learning-tf\\datasets\\kaggle_cats_and_dogs\\PetImages\\Dog\\7369.jpg\nGeneral Exception OpenCV(4.2.0) C:\\projects\\opencv-python\\opencv\\modules\\imgproc\\src\\resize.cpp:4045: error: (-215:Assertion failed) !ssize.empty() in function 'cv::resize'\n C:\\Users\\James Ting\\OneDrive - McGill University\\Personal\\Personal Projects\\learning-tf\\datasets\\kaggle_cats_and_dogs\\PetImages\\Dog\\7459.jpg\nGeneral Exception OpenCV(4.2.0) C:\\projects\\opencv-python\\opencv\\modules\\imgproc\\src\\resize.cpp:4045: error: (-215:Assertion failed) !ssize.empty() in function 'cv::resize'\n C:\\Users\\James Ting\\OneDrive - McGill University\\Personal\\Personal Projects\\learning-tf\\datasets\\kaggle_cats_and_dogs\\PetImages\\Dog\\7969.jpg\nGeneral Exception OpenCV(4.2.0) C:\\projects\\opencv-python\\opencv\\modules\\imgproc\\src\\resize.cpp:4045: error: (-215:Assertion failed) !ssize.empty() in function 'cv::resize'\n C:\\Users\\James Ting\\OneDrive - McGill University\\Personal\\Personal Projects\\learning-tf\\datasets\\kaggle_cats_and_dogs\\PetImages\\Dog\\8730.jpg\nGeneral Exception OpenCV(4.2.0) C:\\projects\\opencv-python\\opencv\\modules\\imgproc\\src\\resize.cpp:4045: error: (-215:Assertion failed) !ssize.empty() in function 'cv::resize'\n C:\\Users\\James Ting\\OneDrive - McGill University\\Personal\\Personal Projects\\learning-tf\\datasets\\kaggle_cats_and_dogs\\PetImages\\Dog\\9188.jpg\nGeneral Exception OpenCV(4.2.0) C:\\projects\\opencv-python\\opencv\\modules\\imgproc\\src\\resize.cpp:4045: error: (-215:Assertion failed) !ssize.empty() in function 'cv::resize'\n C:\\Users\\James Ting\\OneDrive - McGill University\\Personal\\Personal Projects\\learning-tf\\datasets\\kaggle_cats_and_dogs\\PetImages\\Dog\\Thumbs.db\nGeneral Exception OpenCV(4.2.0) C:\\projects\\opencv-python\\opencv\\modules\\imgproc\\src\\resize.cpp:4045: error: (-215:Assertion failed) !ssize.empty() in function 'cv::resize'\n C:\\Users\\James Ting\\OneDrive - McGill University\\Personal\\Personal Projects\\learning-tf\\datasets\\kaggle_cats_and_dogs\\PetImages\\Cat\\10125.jpg\nGeneral Exception OpenCV(4.2.0) C:\\projects\\opencv-python\\opencv\\modules\\imgproc\\src\\resize.cpp:4045: error: (-215:Assertion failed) !ssize.empty() in function 'cv::resize'\n C:\\Users\\James Ting\\OneDrive - McGill University\\Personal\\Personal Projects\\learning-tf\\datasets\\kaggle_cats_and_dogs\\PetImages\\Cat\\10404.jpg\nGeneral Exception OpenCV(4.2.0) C:\\projects\\opencv-python\\opencv\\modules\\imgproc\\src\\resize.cpp:4045: error: (-215:Assertion failed) !ssize.empty() in function 'cv::resize'\n C:\\Users\\James Ting\\OneDrive - McGill University\\Personal\\Personal Projects\\learning-tf\\datasets\\kaggle_cats_and_dogs\\PetImages\\Cat\\10501.jpg\nGeneral Exception OpenCV(4.2.0) C:\\projects\\opencv-python\\opencv\\modules\\imgproc\\src\\resize.cpp:4045: error: (-215:Assertion failed) !ssize.empty() in function 'cv::resize'\n C:\\Users\\James Ting\\OneDrive - McGill University\\Personal\\Personal Projects\\learning-tf\\datasets\\kaggle_cats_and_dogs\\PetImages\\Cat\\10820.jpg\nGeneral Exception OpenCV(4.2.0) C:\\projects\\opencv-python\\opencv\\modules\\imgproc\\src\\resize.cpp:4045: error: (-215:Assertion failed) !ssize.empty() in function 'cv::resize'\n C:\\Users\\James Ting\\OneDrive - McGill University\\Personal\\Personal Projects\\learning-tf\\datasets\\kaggle_cats_and_dogs\\PetImages\\Cat\\11210.jpg\nGeneral Exception OpenCV(4.2.0) C:\\projects\\opencv-python\\opencv\\modules\\imgproc\\src\\resize.cpp:4045: error: (-215:Assertion failed) !ssize.empty() in function 'cv::resize'\n C:\\Users\\James Ting\\OneDrive - McGill University\\Personal\\Personal Projects\\learning-tf\\datasets\\kaggle_cats_and_dogs\\PetImages\\Cat\\11565.jpg\nGeneral Exception OpenCV(4.2.0) C:\\projects\\opencv-python\\opencv\\modules\\imgproc\\src\\resize.cpp:4045: error: (-215:Assertion failed) !ssize.empty() in function 'cv::resize'\n C:\\Users\\James Ting\\OneDrive - McGill University\\Personal\\Personal Projects\\learning-tf\\datasets\\kaggle_cats_and_dogs\\PetImages\\Cat\\11874.jpg\nGeneral Exception OpenCV(4.2.0) C:\\projects\\opencv-python\\opencv\\modules\\imgproc\\src\\resize.cpp:4045: error: (-215:Assertion failed) !ssize.empty() in function 'cv::resize'\n C:\\Users\\James Ting\\OneDrive - McGill University\\Personal\\Personal Projects\\learning-tf\\datasets\\kaggle_cats_and_dogs\\PetImages\\Cat\\11935.jpg\nGeneral Exception OpenCV(4.2.0) C:\\projects\\opencv-python\\opencv\\modules\\imgproc\\src\\resize.cpp:4045: error: (-215:Assertion failed) !ssize.empty() in function 'cv::resize'\n C:\\Users\\James Ting\\OneDrive - McGill University\\Personal\\Personal Projects\\learning-tf\\datasets\\kaggle_cats_and_dogs\\PetImages\\Cat\\140.jpg\nGeneral Exception OpenCV(4.2.0) C:\\projects\\opencv-python\\opencv\\modules\\imgproc\\src\\resize.cpp:4045: error: (-215:Assertion failed) !ssize.empty() in function 'cv::resize'\n C:\\Users\\James Ting\\OneDrive - McGill University\\Personal\\Personal Projects\\learning-tf\\datasets\\kaggle_cats_and_dogs\\PetImages\\Cat\\2663.jpg\nGeneral Exception OpenCV(4.2.0) C:\\projects\\opencv-python\\opencv\\modules\\imgproc\\src\\resize.cpp:4045: error: (-215:Assertion failed) !ssize.empty() in function 'cv::resize'\n C:\\Users\\James Ting\\OneDrive - McGill University\\Personal\\Personal Projects\\learning-tf\\datasets\\kaggle_cats_and_dogs\\PetImages\\Cat\\3300.jpg\nGeneral Exception OpenCV(4.2.0) C:\\projects\\opencv-python\\opencv\\modules\\imgproc\\src\\resize.cpp:4045: error: (-215:Assertion failed) !ssize.empty() in function 'cv::resize'\n C:\\Users\\James Ting\\OneDrive - McGill University\\Personal\\Personal Projects\\learning-tf\\datasets\\kaggle_cats_and_dogs\\PetImages\\Cat\\3491.jpg\nGeneral Exception OpenCV(4.2.0) C:\\projects\\opencv-python\\opencv\\modules\\imgproc\\src\\resize.cpp:4045: error: (-215:Assertion failed) !ssize.empty() in function 'cv::resize'\n C:\\Users\\James Ting\\OneDrive - McGill University\\Personal\\Personal Projects\\learning-tf\\datasets\\kaggle_cats_and_dogs\\PetImages\\Cat\\4833.jpg\nGeneral Exception OpenCV(4.2.0) C:\\projects\\opencv-python\\opencv\\modules\\imgproc\\src\\resize.cpp:4045: error: (-215:Assertion failed) !ssize.empty() in function 'cv::resize'\n C:\\Users\\James Ting\\OneDrive - McGill University\\Personal\\Personal Projects\\learning-tf\\datasets\\kaggle_cats_and_dogs\\PetImages\\Cat\\5553.jpg\nGeneral Exception OpenCV(4.2.0) C:\\projects\\opencv-python\\opencv\\modules\\imgproc\\src\\resize.cpp:4045: error: (-215:Assertion failed) !ssize.empty() in function 'cv::resize'\n C:\\Users\\James Ting\\OneDrive - McGill University\\Personal\\Personal Projects\\learning-tf\\datasets\\kaggle_cats_and_dogs\\PetImages\\Cat\\660.jpg\nGeneral Exception OpenCV(4.2.0) C:\\projects\\opencv-python\\opencv\\modules\\imgproc\\src\\resize.cpp:4045: error: (-215:Assertion failed) !ssize.empty() in function 'cv::resize'\n C:\\Users\\James Ting\\OneDrive - McGill University\\Personal\\Personal Projects\\learning-tf\\datasets\\kaggle_cats_and_dogs\\PetImages\\Cat\\666.jpg\nGeneral Exception OpenCV(4.2.0) C:\\projects\\opencv-python\\opencv\\modules\\imgproc\\src\\resize.cpp:4045: error: (-215:Assertion failed) !ssize.empty() in function 'cv::resize'\n C:\\Users\\James Ting\\OneDrive - McGill University\\Personal\\Personal Projects\\learning-tf\\datasets\\kaggle_cats_and_dogs\\PetImages\\Cat\\7968.jpg\nGeneral Exception OpenCV(4.2.0) C:\\projects\\opencv-python\\opencv\\modules\\imgproc\\src\\resize.cpp:4045: error: (-215:Assertion failed) !ssize.empty() in function 'cv::resize'\n C:\\Users\\James Ting\\OneDrive - McGill University\\Personal\\Personal Projects\\learning-tf\\datasets\\kaggle_cats_and_dogs\\PetImages\\Cat\\7978.jpg\nGeneral Exception OpenCV(4.2.0) C:\\projects\\opencv-python\\opencv\\modules\\imgproc\\src\\resize.cpp:4045: error: (-215:Assertion failed) !ssize.empty() in function 'cv::resize'\n C:\\Users\\James Ting\\OneDrive - McGill University\\Personal\\Personal Projects\\learning-tf\\datasets\\kaggle_cats_and_dogs\\PetImages\\Cat\\8470.jpg\nGeneral Exception OpenCV(4.2.0) C:\\projects\\opencv-python\\opencv\\modules\\imgproc\\src\\resize.cpp:4045: error: (-215:Assertion failed) !ssize.empty() in function 'cv::resize'\n C:\\Users\\James Ting\\OneDrive - McGill University\\Personal\\Personal Projects\\learning-tf\\datasets\\kaggle_cats_and_dogs\\PetImages\\Cat\\850.jpg\nGeneral Exception OpenCV(4.2.0) C:\\projects\\opencv-python\\opencv\\modules\\imgproc\\src\\resize.cpp:4045: error: (-215:Assertion failed) !ssize.empty() in function 'cv::resize'\n C:\\Users\\James Ting\\OneDrive - McGill University\\Personal\\Personal Projects\\learning-tf\\datasets\\kaggle_cats_and_dogs\\PetImages\\Cat\\9171.jpg\nGeneral Exception OpenCV(4.2.0) C:\\projects\\opencv-python\\opencv\\modules\\imgproc\\src\\resize.cpp:4045: error: (-215:Assertion failed) !ssize.empty() in function 'cv::resize'\n C:\\Users\\James Ting\\OneDrive - McGill University\\Personal\\Personal Projects\\learning-tf\\datasets\\kaggle_cats_and_dogs\\PetImages\\Cat\\936.jpg\nGeneral Exception OpenCV(4.2.0) C:\\projects\\opencv-python\\opencv\\modules\\imgproc\\src\\resize.cpp:4045: error: (-215:Assertion failed) !ssize.empty() in function 'cv::resize'\n C:\\Users\\James Ting\\OneDrive - McGill University\\Personal\\Personal Projects\\learning-tf\\datasets\\kaggle_cats_and_dogs\\PetImages\\Cat\\9565.jpg\nGeneral Exception OpenCV(4.2.0) C:\\projects\\opencv-python\\opencv\\modules\\imgproc\\src\\resize.cpp:4045: error: (-215:Assertion failed) !ssize.empty() in function 'cv::resize'\n C:\\Users\\James Ting\\OneDrive - McGill University\\Personal\\Personal Projects\\learning-tf\\datasets\\kaggle_cats_and_dogs\\PetImages\\Cat\\9778.jpg\nGeneral Exception OpenCV(4.2.0) C:\\projects\\opencv-python\\opencv\\modules\\imgproc\\src\\resize.cpp:4045: error: (-215:Assertion failed) !ssize.empty() in function 'cv::resize'\n C:\\Users\\James Ting\\OneDrive - McGill University\\Personal\\Personal Projects\\learning-tf\\datasets\\kaggle_cats_and_dogs\\PetImages\\Cat\\Thumbs.db\n"
    }
   ],
   "source": [
    "#create training data\n",
    "training_data = []\n",
    "\n",
    "def create_training_data():\n",
    "    for category in CATEGORIES:\n",
    "        path = os.path.join(DATADIR, category)\n",
    "        class_num = CATEGORIES.index(category)\n",
    "        for img in os.listdir(path):\n",
    "            try:\n",
    "                img_array = cv2.imread(os.path.join(path,img),cv2.IMREAD_GRAYSCALE)\n",
    "                new_array = cv2.resize(img_array,(IMG_SIZE,IMG_SIZE))\n",
    "                training_data.append([new_array,class_num])\n",
    "            except OSError as e:\n",
    "                print(\"OSError: Bad image\", e, os.path.join(path,img))\n",
    "            except Exception as e:\n",
    "                print(\"General Exception\",e,os.path.join(path,img))\n",
    "\n",
    "create_training_data()"
   ]
  },
  {
   "cell_type": "code",
   "execution_count": 4,
   "metadata": {},
   "outputs": [],
   "source": [
    "import random\n",
    "\n",
    "random.shuffle(training_data)"
   ]
  },
  {
   "cell_type": "code",
   "execution_count": 5,
   "metadata": {},
   "outputs": [],
   "source": [
    "X = [] #feature set\n",
    "y = [] #labels\n",
    "\n",
    "for features, label in training_data:\n",
    "    X.append(features)\n",
    "    y.append(label)\n",
    "\n",
    "#convert X to numpy arry\n",
    "X = np.array(X).reshape(-1,IMG_SIZE,IMG_SIZE,1)"
   ]
  },
  {
   "cell_type": "code",
   "execution_count": 6,
   "metadata": {},
   "outputs": [],
   "source": [
    "# wanna save the data, so we dont have to rebuild the data set\n",
    "\n",
    "import pickle\n",
    "def write_to_pickle(name,array):\n",
    "    pickle_out = open(name,\"wb\")\n",
    "    pickle.dump(array,pickle_out)\n",
    "    pickle_out.close()\n",
    "\n",
    "write_to_pickle(\"X.pickle\",X)\n",
    "write_to_pickle(\"y.pickle\",y)\n",
    "\n",
    "def read_from_pickle(name,array):\n",
    "    pickle_in = open(name,\"rb\")\n",
    "    array = pickle.load(pickle_in)\n",
    "    pickle_in.close()\n",
    "\n",
    "\n",
    "read_from_pickle(\"X.pickle\",X)"
   ]
  }
 ]
}